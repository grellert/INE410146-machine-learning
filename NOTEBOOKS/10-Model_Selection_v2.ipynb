{
 "cells": [
  {
   "cell_type": "markdown",
   "id": "f373cb26",
   "metadata": {},
   "source": [
    "### INE 410146 - Applied Machine Learning\n",
    "$\\textbf{Author: Prof. Mateus Grellert}$\n",
    "\n",
    "Bibliography used in this lesson:\n",
    "- Machine Learning: A Probabilistic Perspective, Kevin P. Murphy. Chapter 6.4\n",
    "- Pattern Recognition and Machine Learning, Christopher M. Bishop. Chapter 3.2\n",
    "- Aggarwal, Charu C. Data mining: the textbook. Springer, 2015 - Chapter 11.8\n"
   ]
  },
  {
   "cell_type": "markdown",
   "id": "9922a3a4",
   "metadata": {},
   "source": [
    "# 10 - Model selection\n",
    "\n",
    "As we've already discussed in previous lessons, we can obtain several different models with the same data set, even when using the same algorithm. For newcomers, this may cause a bit of confusion, as there is no exact indication of which model or which configuration will perform better.\n",
    "\n",
    "The truth is that we often need to test the different combinations of algorithms and their parameters in order to find a suitable option for each data in a process known as **model selection**. \n",
    "\n",
    "During model selection, we test different possibitilities of learning algorithms and their training parameters (which are called **hyperparameters**), looking for the one that will likely work best when deployed. An example of hyperparameter is **number of hidden layers** in a NN or the **activation function** used in each node. Each learning algorithm has its own set of hyperparameters, so studying their documentation is a necessary step in this process. We will more about this later in this lesson.\n",
    "\n",
    "However, the fundamental question is still unanswered: *which model is better than all others?*\n",
    "\n",
    "A naive answer to this question, which is often mistakingly considered to be true, is that the best model is the one with maximum performance (e.g., accuracy) on the training set. We will see in this lesson why this is a problem and also how we can avoid this issue.\n",
    "\n",
    "\n",
    "## Underfitting and Overfitting\n",
    "\n",
    "**Overfitting** is one of the greatest headaches for applied machine learning. It happens when models become too complex in order to maximize performance on the training and fail to grasp the actual structure of our data. \n",
    "\n",
    "To understand overfitting, let's take a real-life example where a teacher decides to give the class a test with 20 questions:\n",
    "- Scenario A:\n",
    " - To ensure students will be prepared, the teacher provides 100 practicing exercises, saying that all the test questions will be drawn from these 100 exercises. \n",
    " - In order to maximize their grades, the lazy students will simply memorize the answer of all 100 exercises instead of actually learning the subject. \n",
    "- Scenario B:\n",
    " - Now let's say the teacher takes a different approach and tells the students that the test will contain only questions that are different from the ones used in the exercises. \n",
    " - In this case, students will need to actually learn the subject if they want to perform well on their test.\n",
    " \n",
    "**Scenario A** represents an overfitting situation. Machine learning models are like lazy students in the sense that they are programmed to **minimize a loss function**. Therefore, they are prone to become more complex than necessary in order to achieve this, regardless of the fact that the final solution may not reflect the structure of the data being modeled.\n",
    "\n",
    "Now let's think of a third scenario, in which only 5 questions are provided as exercise. In this case, students might not be able to exercise all of the subject and will likely perform poorly on the test. In this case, we have an **underfitting** scenario, which in machine learning translates to a model that is too simplistic and that might not be able to actually learn important aspects of our data. \n",
    "\n",
    "The figure below shows a pictorial example for a regression problem where different polynomials attempt to model the data, represented as blue points in the charts. The orange line denotes the actual function from which data was obtained. The MSE shown in each chart represents the difference between the model and the true function.\n",
    "\n",
    "<center>\n",
    "<img src=\"https://scikit-learn.org/stable/_images/sphx_glr_plot_underfitting_overfitting_001.png\" width=\"80%\" /> <br> (source: Scikit-learn, Overfitting vs Underfitting - <a href=\"https://scikit-learn.org/stable/auto_examples/model_selection/plot_underfitting_overfitting.html\">link</a>)\n",
    "</center>\n",
    "\n",
    "In the first plot, a linear function ($\\mathrm{degree}=1$) is used, producing a large Mean Squared Error (MSE) of $4.08\\mathrm{e-}01$. This is a typical case of underfitting. The last plot uses a much more complex polynomial (degree of $15$), leading to a model that almost perfectly passes through every data point. While this leads to a very small error in the training set, the MSE between this model and the true function is the highest of them all ($\\mathrm{MSE}=1.81\\mathrm{e+}08$). In this case, we have an overfitted model. Finally, the chart in the middle represents the best trade-off between model complexity and prediction error, using a 4th-degree polynomial.\n",
    "\n",
    "Paraphrasing Bishop, the use o  training methods that aim at minimizing the loss function  can lead  to severe overfitting, specially if complex models are trained using data sets of limited size. However, limiting  the  complexity of the models  in  order  to  avoid  overfitting  has  the  side-effect of limiting the flexibility of the model to capture interesting and importanttrends in the data (causing underfitting). \n",
    "\n",
    "If we are working with separate data sets for training and testing (as we should), **underfitting** is detected when we have a **high loss (low performance) on both training and test sets**. In other words, our model will not even be able to memorize our data if it is underfitted.\n",
    "\n",
    "**Overfitting** is detected when we have a **low loss on the training set** and a **high loss on the test set**. This is why overfitted models are often mistakingly advertised as efficient solutions, because they work really well with data that was previously seen. This is, however, extremely unethical and should never be practiced by anyone.\n",
    "\n",
    "### Python Example\n",
    "\n",
    "Now let's see an example in Python to consolidate these concepts, using an example obtained from the TWDS blog (<a href=\"https://towardsdatascience.com/overfitting-vs-underfitting-a-complete-example-d05dd7e19765\">link</a>). Let's start by creating a synthetic data set based on a sinusoidal series.\n"
   ]
  },
  {
   "cell_type": "code",
   "execution_count": 14,
   "id": "3cad3b08",
   "metadata": {},
   "outputs": [
    {
     "data": {
      "image/png": "[encoded data removed]",
      "text/plain": [
       "<Figure size 432x288 with 1 Axes>"
      ]
     },
     "metadata": {
      "needs_background": "light"
     },
     "output_type": "display_data"
    }
   ],
   "source": [
    "# code adapted from: https://github.com/WillKoehrsen/Data-Analysis/blob/master/over_vs_under/Over%20vs%20Under%20Fitting%20Example.ipynb\n",
    "\n",
    "import numpy as np \n",
    "import matplotlib.pyplot as plt\n",
    "\n",
    "# \"True\" generating function representing a process in real life\n",
    "def true_gen(x):\n",
    "    y = np.sin(1.2 * x * np.pi) \n",
    "    return(y)\n",
    "\n",
    "# sort x values to generate a series-likr behavior \n",
    "x = np.sort(np.random.rand(250))\n",
    "# create the sinusoidal signal and add some noise to it\n",
    "y = true_gen(x) + 0.1 * np.random.randn(len(x))\n",
    "\n",
    "# Random indices for creating training and testing sets\n",
    "random_ind = np.random.choice(list(range(250)), size = 250, replace=False)\n",
    "xt = x[random_ind]\n",
    "yt = y[random_ind]\n",
    "\n",
    "# Training and testing observations (70-30 split)\n",
    "Xtr = xt[:int(0.7 * len(x))]\n",
    "Xte = xt[int(0.7 * len(x)):]\n",
    "\n",
    "ytr = yt[:int(0.7 * len(y))]\n",
    "yte = yt[int(0.7 * len(y)):]\n",
    "\n",
    "# Model the true curve\n",
    "x_linspace = np.linspace(0, 1, 1000)\n",
    "y_true = true_gen(x_linspace)\n",
    "\n",
    "# Visualize observations and true curve\n",
    "plt.plot(Xtr, ytr, 'ko', label = 'Train'); \n",
    "plt.plot(Xte, yte, 'ro', label = 'Test')\n",
    "plt.plot(x_linspace, y_true, 'b-', linewidth = 2, label = 'True Function')\n",
    "plt.legend()\n",
    "plt.xlabel('x'); plt.ylabel('y'); plt.title('Data');\n"
   ]
  },
  {
   "cell_type": "markdown",
   "id": "bbb00866",
   "metadata": {},
   "source": [
    "Now that we have our train and test data sets, we can create classifiers that will attempt at modeling their undelying structure (represented by the true function). We will use a simple polynomial fit instead of actual machine learning models. For that, we can count on the ``polyfit`` method of the ``numpy`` package. The ``poly1d`` method creates an actual function (model) that can be used with our test samples to make predictions. We will compare three approaches: a linear fit (1-degree polynomial), a polynomial with a degree of 5, and a third one with a degree of 30. "
   ]
  },
  {
   "cell_type": "code",
   "execution_count": 15,
   "id": "bdb78343",
   "metadata": {},
   "outputs": [
    {
     "name": "stdout",
     "output_type": "stream",
     "text": [
      "MSE(linear): train 0.346, test 0.333\n",
      "MSE(poly5): train 0.080, test 0.079\n",
      "MSE(poly30): train 0.076, test 0.087\n"
     ]
    },
    {
     "name": "stderr",
     "output_type": "stream",
     "text": [
      "/opt/anaconda3/lib/python3.8/site-packages/IPython/core/interactiveshell.py:3437: RankWarning: Polyfit may be poorly conditioned\n",
      "  exec(code_obj, self.user_global_ns, self.user_ns)\n"
     ]
    }
   ],
   "source": [
    "from sklearn.linear_model import LinearRegression\n",
    "\n",
    "# training/fitting \n",
    "# the third parameter of `polyfit` is the degree of the polynomial\n",
    "poly1 = np.poly1d(np.polyfit(Xtr, ytr, 1))\n",
    "poly5 = np.poly1d(np.polyfit(Xtr, ytr, 5))\n",
    "poly30 = np.poly1d(np.polyfit(Xtr, ytr, 30))\n",
    "\n",
    "# prediction/evaluation (train)\n",
    "pred_linear = poly1(Xtr)\n",
    "pred_poly5 = poly5(Xtr)\n",
    "pred_poly30 = poly30(Xtr)\n",
    "\n",
    "mse_linear_tr = np.sqrt((ytr - pred_linear )**2).mean()\n",
    "mse_poly5_tr = np.sqrt((ytr - pred_poly5 )**2).mean()\n",
    "mse_poly30_tr = np.sqrt((ytr - pred_poly30 )**2).mean()\n",
    "\n",
    "# prediction/evaluation (test)\n",
    "pred_linear = poly1(Xte)\n",
    "pred_poly5 = poly5(Xte)\n",
    "pred_poly30 = poly30(Xte)\n",
    "\n",
    "mse_linear_te = np.sqrt((yte - pred_linear )**2).mean()\n",
    "mse_poly5_te = np.sqrt((yte - pred_poly5 )**2).mean()\n",
    "mse_poly30_te = np.sqrt((yte - pred_poly30 )**2).mean()\n",
    "\n",
    "print('MSE(linear): train %.3f, test %.3f' % (mse_linear_tr, mse_linear_te))\n",
    "print('MSE(poly5): train %.3f, test %.3f' % (mse_poly5_tr, mse_poly5_te))\n",
    "print('MSE(poly30): train %.3f, test %.3f' % (mse_poly30_tr, mse_poly30_te))\n"
   ]
  },
  {
   "cell_type": "markdown",
   "id": "12337b7f",
   "metadata": {},
   "source": [
    "Note that the highest MSE values occurred with the linear model, which makes sense because we are modeling a non-linear function (**underfitting**). When using a degree of 30, we obtain a much lower MSE in our training samples, but it increases when the test samples are used (**overfitting**). The option with a degree of 5 leads to almost the same MSE in the training set, while keeping a lower MSE in the test set as well (**good balance**).\n",
    "\n",
    "We can also visualize these predictions in order to understand what's happening. Note that the higher-degree polynomial diverges when $x$ is close to $1$."
   ]
  },
  {
   "cell_type": "code",
   "execution_count": 13,
   "id": "ae35e08a",
   "metadata": {},
   "outputs": [
    {
     "data": {
      "image/png": "[encoded data removed]",
      "text/plain": [
       "<Figure size 720x360 with 1 Axes>"
      ]
     },
     "metadata": {
      "needs_background": "light"
     },
     "output_type": "display_data"
    }
   ],
   "source": [
    "fig = plt.figure(figsize = (10,5))\n",
    "\n",
    "plt.plot( Xte, yte, 'ro', label = 'Test',\n",
    "         markeredgewidth=1, markeredgecolor='k')\n",
    "plt.plot(Xte, pred_linear, 'gv', label = 'poly(deg=1)',\n",
    "        markeredgewidth=1, markeredgecolor='k')\n",
    "plt.plot(Xte, pred_poly5, 'b^', label = 'poly(deg=5)',\n",
    "         markeredgewidth=1, markeredgecolor='k')\n",
    "plt.plot(Xte, pred_poly30, 'ys', label = 'poly(deg=30)',\n",
    "         markeredgewidth=1, markeredgecolor='k')\n",
    "\n",
    "plt.legend()\n",
    "plt.xlabel('x'); plt.ylabel('y'); plt.title('Data');\n"
   ]
  },
  {
   "cell_type": "markdown",
   "id": "9c6852bb",
   "metadata": {},
   "source": [
    "Now let's dive into the technical aspects surrounding the phenomenon of under and overfitting by introducing the bias-variance trade-off. We will lead the explanation using classification problems, but the same applies for regression as well.\n",
    "\n",
    "## The Bias-Variance Trade-Off\n",
    "\n",
    "The bias-variance trade-off is a concept that tries to understand how the error function of our classifiers work.\n",
    "\n",
    "Let's start by stating that the expectation of a given loss function $L$ can be computed as follows:\n",
    "\n",
    "$\\mathbb{E}(L)=\\mathrm(bias)^2+\\mathrm(variance)+\\mathrm(noise)$\n",
    "\n",
    "The mathematical details of this decomposition are shown in Bishop's textbook, but we will try to keep things light and focus on its components. Now let's see how Aggarwal describes them in his textbook:\n",
    "\n",
    "- **Bias:** every classifier makes its own modeling assumptions about the nature of the decision boundary between classes. This is, of course, not always true in practice. For instance, in some cases, no linear classifier can classify all the possible test instances correctly even if the best possible model is constructed with a very large training data set. In other words, any given linear model will have an inherent bias. When a classifier has **high bias**, it will make **consistently incorrect predictions** over particular choices of test instances near the incorrectly-modeled decision boundary, even when different samples of the training data are used for the learning process.\n",
    "\n",
    "- **Variance:** random variations in the choices of the training data will lead to different models. Let's recall the picture with the polynomial fits we've discussed before. A polynomial with a high-enough degree can approximate even complex functions quite well. However, if we separate several subsets of the data points and use them to train different polynomials, we will have a large difference among the results. This is a manifestation of model variance. Model variance is closely related to overfitting. When a classifier has an overfitting tendency, it will make inconsistent predictions for the same test instance over different training data sets.\n",
    "\n",
    "The bias comes from the mean error obtained **between the classifier predictions and the real data**, whereas the variance comes from the mean difference between **the predictions of different classifiers**, each trained with a different subset of our data. The picture below shows a very good illustration of bias and variance, considering that the correct answers lie within the red circle.\n",
    "\n",
    "<center>\n",
    "<img src=\"https://media-exp1.licdn.com/dms/image/C5612AQEaeiv-x6r0qg/article-inline_image-shrink_1500_2232/0/1536615163393?e=1648080000&v=beta&t=U3Hq75_v-aSCGKQd2X0C7Nubvo5F0Ot0WvCwiCZPN-4\" width=\"70%\"/> <br> (source: *Understanding the Bias-Variance Tradeoff* by Scott Formann)\n",
    "</center>\n",
    "\n",
    "We call it the **bias-variance trade-off**, because usually the following rules apply:\n",
    "- Relatively **rigid** models have high bias and low variance.\n",
    "- Very **flexible** models present low bias and high variance.\n",
    "- The model with the optimal predictive capability is the one that leads to the best **balance** between bias and variance. \n",
    "\n",
    "We can also think of a relationship between these terms and the quality of our fit. Models with **high bias** usually represent cases of **underfitting**, whereas models with **high variance** are commonly associated with **overfitting**. The design choices considered in the model selection step have a direct impact in this trade-off. Simpler models are more prone to present high bias and low variance, whereas complex models will likely present low bias and high variance. \n",
    "\n",
    "The figure below shows another example of the bias-variance trade-off as a function of a **regularization parameter** $\\lambda$ (which will be discussed later on), showing that there is an optimal point that minimizes loss near $\\lambda=0.4$.  \n",
    "\n",
    "<center>\n",
    "    <img src=\"FIGS/10-bas_variance_tradeoff_chart.png\" width=\"50%\" />\n",
    "        (source: Bishop, C. \"Pattern Recognition and Machine Learning\")\n",
    "\n",
    "</center>\n",
    "\n",
    "There is no easy way to figure out the best parameter or learning algorithm that will lead to the best result in the bias-variance trade-off, but knowing how we can identify and deal with these two components can help us come up with strategies to improve our models. We will see in the next sections some approaches that can be useful in many cases. \n",
    "\n",
    "## Detecting Underfitting and Overfitting\n",
    "\n",
    "Assessing the quality of our fit is a bit tricky, because ideally we need to look at the test set in order to identify discrepancies. However, we also know that we should avoid using the test set in the model selection step.\n",
    "\n",
    "A good alternative is to employ **cross-validation** (CV) or to use a separate **validation set** that comes from the training samples. This way, the samples used for evaluation are also part of the training set.\n",
    "\n",
    "Regardless of which approach we are using, we can detect over/underfitting by comparing the train and validation loss. The idea is the following:\n",
    "\n",
    "- Underfitting occurs when the train loss is low and the validation loss is also low (even if its higher than the train loss)\n",
    "- Overfitting occurs when train loss is high and the validation loss is low.\n",
    "\n",
    "In iterative optimization methods, such as **gradient descent**, it is common to plot the train vs validation loss after each iteration. Let's see the following examples below:\n",
    "<!-- \n",
    "<center>\n",
    "<div>\n",
    "  <img src=\"https://machinelearningmastery.com/wp-content/uploads/2019/02/Example-of-Training-Learning-Curve-Showing-An-Underfit-Model-That-Does-Not-Have-Sufficient-Capacity.png\" width=\"50%\" />  \n",
    "  <img src=\"https://machinelearningmastery.com/wp-content/uploads/2018/12/Example-of-Train-and-Validation-Learning-Curves-Showing-An-Overfit-Model.png\" width=\"50%\" />  \n",
    "</div>\n",
    "     <img src=\"https://machinelearningmastery.com/wp-content/uploads/2018/12/Example-of-Train-and-Validation-Learning-Curves-Showing-A-Good-Fit.png\" width=\"60%\" />  \n",
    "    (source: Machine Learning Mastery - <a href=\"https://machinelearningmastery.com/learning-curves-for-diagnosing-machine-learning-model-performance/\">link</a>).\n",
    "</center>\n",
    " -->\n",
    "The $x$ axis of each plot represents the iterations through time. For instance, if the model being trained is a NN, it might represent the epochs or the batches being processed. The $y$ is the loss function. The two plots in the upper half represent **underfitting** (on the left) and **overfitting** (on the right). The plot in the lower half represents a good balance between train/validation losses, and should be pursued by practitioners. Note that this balance is usually obtained at the cost of a larger loss in training set, but this only means that we are not being tricked by overfitting.\n",
    "\n",
    "## Dealing with Underfitting\n",
    "\n",
    "Handling underfitting can be done in multiple ways. As we could see in the example above, a possible method is to increase the models parameters (and by extension its complexity). It is also possible to switch to a learning algorithm that supports complex relationships, like Neural Networks, instead of a linear logistic/regression model. \n",
    "\n",
    "Another approach consists in adding more training data, which can be done in two ways:\n",
    " - **Column-wise:** by creating new features from the current ones (also known as **Feature engineering**).\n",
    " - **Row-wise:** by getting more samples from the data source, or finding new data sources, or even by creating synthetic samples (used in some class-balancing techniques). \n",
    "\n",
    "Getting more data is always a good idea, but often not a possible one. It is not uncommon to find situations where a customer or project manager asks for a classification model with less than 50 samples for training, because getting more samples would violate time or budget restrictions. In such cases, resorting to simpler statistical approaches (correlation/association analysis, ANOVA etc) might be a better option.\n",
    "\n",
    "## Dealing with Overfitting\n",
    "\n",
    "One of the main goals of model selection is to obtain a model with good performance while reducing the chances of overfitting. Therefore, the techniques discussed in the following paragraphs should be included in the pipeline of any ML pracititioner (when applicable, of course).\n",
    "\n",
    "### Hyperparameter Tuning\n",
    "\n",
    "As we've briefly discussed in the beginning of this lesson, each learning algorithm has a set of parameters that can be tuned to produce different models, called hyperparameters. For instance, we can train a NN using a single hidden layer containing 50 nodes, but who's to say we wouldn't get better results with 100 or 25 nodes? The goal of hyperparameter tuning is to answer this question. \n",
    "\n",
    "\n",
    "<div style=\"background-color: cornsilk;padding: 5px; margin: 5px; border-style:solid; border-width:1px\" >\n",
    "    <strong>Note:</strong> hyperparameters are <strong>NOT</strong> to be confused with the parameters of the model. The former represents the training algorithm configurations, whereas the latter is used to express the model itself (for example, the weights in a neural network are commonly referred to as the parameters of this NN).\n",
    "</div>\n",
    "\n",
    "Now let's look at the steps of one of the most used strategies of hyperpameter tuning called **grid search CV**. It receives a dictionary with hyperparameters and the values that must be tested for each (*hyperparameter_dict*), the CV train and test sets (*cross_val_sets*), and the *classifier* being trained. Its output is the set of hyperparameters that minimize the average CV loss (*best_hyperparameters*).\n",
    "\n",
    "<!-- <div style=\"background-color: aliceblue;padding: 5px; border-style:solid; border-width:1px;font-family:monospace\" >\n",
    "<strong>Algorithm - Grid search CV </strong>\n",
    "\n",
    "01. <span style=\"margin:0 0 0 0px\">compute $hyperparameter\\_sets$ with all combinations from $hyperparameter\\_dict$ </span> <br/>\n",
    "02. <span style=\"margin:0 0 0 0px\">for $hyperparam\n",
    "_set$ in $hyperparameter\\_sets$: </span><br/>\n",
    "03. <span style=\"margin:0 0 0 20px\">  for ($train\\_set$, $test\\_set$) in $cross\\_val\\_sets$: </span><br/>\n",
    "04. <span style=\"margin:0 0 0 40px\">    train the classifier for $train\\_set$ using $hyperparam\\_set$ </span><br/>\n",
    "05. <span style=\"margin:0 0 0 40px\">    compute loss for $test\\_set$ </span><br/>\n",
    "06. <span style=\"margin:0 0 0 20px\">  compute $avg\\_cv\\_loss$ </span><br/>\n",
    "07. <span style=\"margin:0 0 0 20px\">  if $avg\\_cv\\_loss$ &#60;  $min\\_cv\\_loss$: </span><br/>\n",
    "08. <span style=\"margin:0 0 0 40px\">    $best\\_hyperparameters$ = $hyperparameter\\_set$ </span><br/>\n",
    "09. <span style=\"margin:0 0 0 40px\">    $min\\_cv\\_loss$ = $avg\\_cv\\_loss$ </span><br/>\n",
    "     \n",
    "10. <span style=\"margin:0 0 0 0px\">return $best\\_hyperparameters$</span>\n",
    "</div>\n",
    " -->\n",
    "Notice that the complexity of the grid search CV is combinatorial with the number of hyperparameter sets that are considered. This is also one of the main problems of this approach. Most learning algorithms contain several hyperparameters, each with many possible values, so this number can easily grow to unfeasible proportions. \n",
    "\n",
    "Nonetheless, grid search is still widely adopted due to its simplicity and because it can be easily parallelized to multiple cores. \n",
    "\n",
    "Alternatives to the full grid search include:\n",
    "\n",
    "- **Randomized grid search**: a great paper from Bergstra and Bengio (<a href=\"https://www.jmlr.org/papers/volume13/bergstra12a/bergstra12a.pdf\">link</a>) shows that using randomized combinations of the hyperparameters can lead to the same results obtained with grid search within a small fraction of the computation time. The idea is that using a smaller subset of randomized hyperparameters allows greater exploration of unlikely values which can eventually lead to even better results than those of grid search. Randomized CV is included in ``scikit-learn`` (<a href=\"https://scikit-learn.org/stable/modules/generated/sklearn.model_selection.RandomizedSearchCV.html\">link</a>).\n",
    "\n",
    "- **Sequential model-based optimization (SMBO)**: the idea of this approach is to use a probability model called surrogate that tries to predict the improvements obtained with each set of hyperparameters. This probability is updated after each trial, this the term sequential. The probability model can be implemented in many ways. Bergstra et al. (<a href=\"https://proceedings.neurips.cc/paper/2011/file/86e8f7ab32cfd12577bc2619bc635690-Paper.pdf\">link </a>) have shown that a technique based on Bayesian optimization called **Tree-structured Parzen Estimator (TPE)** is capable of outperforming both manual and randomized optimizations. This algorithm is implemented in the ``hyperopt`` Python package (<a href=\"http://hyperopt.github.io/hyperopt/\">link </a>). \n",
    "\n",
    "\n",
    "### Regularization parameter\n",
    "\n",
    "As we've discussed, overfitting is associated with flexible models that present high variance. Flexibility usually comes at the cost of model complexity, so if we limit the complexity of a model we can reduce the chances of overfitting it.\n",
    "\n",
    "Reducing complexity to avoid overfitting is commonly referred to as **regularization**. It can be done manually, by tuning the hyperparameters in a way that the resulting model is less complex, but not all algorithms have this option, while others have several options that reduce model complexity, and it can be difficult to know which one is the most effective.\n",
    "\n",
    "Another approach for regularization consists of penalizing model complexity in the loss function itself. As we've discussed, learning algorithms aim at minimizing this function, so we can guide the learning process towards simpler models if we somehow increase the estimated loss for complex candidates.\n",
    "\n",
    "To understand how this is done in practice, let's take a look an L2 loss function with a regularization term. Consider that $h_{\\theta}$ represents our model, and $\\theta$, its parameters:\n",
    "\n",
    "$L(x,y)=\\sum\\limits^n_{i=1}(y_i-h_{\\theta}(x))^2+\\lambda\\sum\\limits^m_{i=1}\\theta^2$\n",
    "\n",
    "The second term of this loss function is called a regularization term, and its purpose is to penalize models whose parameters are too large in terms of magnitude. This way, if we have two models that are identical in terms of difference between true and predicted values, the one with smaller weights will be preferred. \n",
    "\n",
    "The parameters of the model ($\\theta$) depend on which learning algorithm is being used. For linear regression, $\\theta$ stands for the coefficients of each feature. For NNs, $\\theta$ represents the weights of the network. \n",
    "\n",
    "The $\\lambda$ is called the **regularization parameter**, and its purpose is to give more or less weight to the regularization. Higher values of $\\lambda$ lead to simpler models, whereas lower values lead to more complex ones. \n",
    "\n",
    "The figure below shows the effect of the $\\lambda$ parameter in the bias and variance of models. The green line on the right represents the actual function, and the red lines represent models trained with different subsets of the training data (for instance, different folds of a cross-validation split).\n",
    "\n",
    "<center>\n",
    "<img src=\"FIGS/10-regularization_parameter_plot.png\" width=\"80%\" />\n",
    "    (source: Bishop, C. \"Pattern Recognition and Machine Learning\")\n",
    "</center>\n",
    "\n",
    "Note that a larger value of $\\lambda$ (upper chart) lead to models that perform very similarly regardless of which subset is used in the training samples. Therefore, we can observe that these models have a **small variance**. At the same time, the average performance (smoothed curve on the right side) is not very good, which represents a **large bias** (and underfitting by association).\n",
    "\n",
    "Smaller values of of $\\lambda$ (lower chart) do the opposite: the models differ a lot in their performance on the right, indicating **large variance**, but they perform well compared with the actual function, thus presenting a **small bias**.\n",
    "\n",
    "The chart in the middle represent a better trade-off exploitation, producing a small bias with a reduced variance as well.\n",
    "\n",
    "An interesting feature of this approach is that we can achieve very different models by tuning a single parameter. In addition, it is supported in many famous learning techniques, like linear regression, NNs, and Support Vector Machines (SVM).\n",
    "\n",
    "### Early stopping\n",
    "\n",
    "This approach is available when we have algorithms that iteratively improve the model performance, usually by passing through the data set several times. Algorithms optimized with **gradient descent** (like NNs) are a typical example, because the parameters are updated after each batch, and this process continues until a maximum number of iterations are achieved.\n",
    "\n",
    "The idea of **early stopping** is that we stop training once the model performance stops improving on a hold out validation dataset. We can define a tolerance value that allows training to continue for some iterations, and we can also define a threshold parameter representing how much gain is considered an actual improvement.\n",
    "\n",
    "### Python Example\n",
    "\n",
    "Let's now practice hyperparameter tuning in Python. We will train a NN model using an implementation of the ``sklearn`` package called ``MultilayerPerceptron``. The evaluated hyperparameters will be hidden layer size and activation function. \n",
    "\n",
    "The data set contains $8\\times8$ images of handwritten digits (thus 10 classes), and the classifier must figure out which digit is written in each image.\n",
    "\n",
    "We will also use a 5-fold cross-validation to reduce the chances of overfitting our model. The combination of hyperparameter tuning with cross-validation is conveniently implemented by the ``GridSearchCV`` class of the ``sklearn`` package as well, making our lives even easier."
   ]
  },
  {
   "cell_type": "code",
   "execution_count": 16,
   "id": "57aa8165",
   "metadata": {},
   "outputs": [
    {
     "name": "stdout",
     "output_type": "stream",
     "text": [
      "Fitting 5 folds for each of 6 candidates, totalling 30 fits\n"
     ]
    },
    {
     "data": {
      "text/plain": [
       "GridSearchCV(cv=5, estimator=MLPClassifier(),\n",
       "             param_grid={'activation': ['logistic', 'relu'],\n",
       "                         'hidden_layer_sizes': [10, 50, 100]},\n",
       "             verbose=True)"
      ]
     },
     "execution_count": 16,
     "metadata": {},
     "output_type": "execute_result"
    }
   ],
   "source": [
    "from sklearn.model_selection import GridSearchCV, train_test_split\n",
    "from sklearn.neural_network import MLPClassifier\n",
    "from sklearn.datasets import load_digits\n",
    "\n",
    "from warnings import simplefilter\n",
    "from sklearn.exceptions import ConvergenceWarning\n",
    "simplefilter(\"ignore\", category=ConvergenceWarning)\n",
    "\n",
    "digits = load_digits()\n",
    "\n",
    "# flatten the images\n",
    "n_samples = len(digits.images)\n",
    "X = digits.images.reshape((n_samples, -1))\n",
    "y = digits.target\n",
    "\n",
    "Xtr, Xte, ytr, yte = train_test_split(X, y, test_size = 0.2)\n",
    "\n",
    "# Create a NN classifier and set the hyperparameter to be tested\n",
    "clf = MLPClassifier()\n",
    "hyperparams = {\n",
    "    \"hidden_layer_sizes\": [10, 50, 100],\n",
    "    \"activation\": [\"logistic\", \"relu\"]\n",
    "}\n",
    "\n",
    "# defining a 5-fold cv using the MLP and its hyperparameters\n",
    "cv = GridSearchCV(clf, hyperparams, cv = 5, verbose = True)\n",
    "cv.fit(Xtr, ytr)"
   ]
  },
  {
   "cell_type": "markdown",
   "id": "cfe0b820",
   "metadata": {},
   "source": [
    "When we call the ``fit()`` method on our MLP classifier, it will test all the hyperparameter combinations on each CV subset. Note that for this analysis $30$ fits were computed. We can generalize the number of model fits computed during grid search. Considering we are tuning $M$ parameters, the formula goes as follows:\n",
    "\n",
    "$N_{fits} = k*\\prod\\limits_{i=1}^M|P_i|$\n",
    "\n",
    "Where $|P_i|$ represents the number of values for parameter $P_i$, and $k$ represents the number of cross-validation folds. In our case, we have $5*(3*2)=30$ fits.\n",
    "\n",
    "Since we have a combinatorial relationship with the hyperparameter sets, grid search CV can become very time-consuming, but it is still widely employed in many machine-learning pipelines.\n",
    "\n",
    "The ``GridSearchCV`` object that we tuned contains several informations about this process. Let's see some examples in the code below."
   ]
  },
  {
   "cell_type": "code",
   "execution_count": 5,
   "id": "ce5f1b34",
   "metadata": {},
   "outputs": [
    {
     "name": "stdout",
     "output_type": "stream",
     "text": [
      "Best parameters set found on training set:\n",
      "\n",
      "{'activation': 'logistic', 'hidden_layer_sizes': 100} \n",
      "\n",
      "Mean accuracies (across 5 folds) of each combination:\n",
      "0.93 (+/-0.040) for {'activation': 'logistic', 'hidden_layer_sizes': 10}\n",
      "0.97 (+/-0.019) for {'activation': 'logistic', 'hidden_layer_sizes': 50}\n",
      "0.98 (+/-0.012) for {'activation': 'logistic', 'hidden_layer_sizes': 100}\n",
      "0.91 (+/-0.038) for {'activation': 'relu', 'hidden_layer_sizes': 10}\n",
      "0.97 (+/-0.014) for {'activation': 'relu', 'hidden_layer_sizes': 50}\n",
      "0.97 (+/-0.021) for {'activation': 'relu', 'hidden_layer_sizes': 100}\n",
      "\n"
     ]
    }
   ],
   "source": [
    "print(\"Best parameters set found on training set:\\n\")\n",
    "print(cv.best_params_,\"\\n\")\n",
    "\n",
    "print(\"Mean accuracies (across 5 folds) of each combination:\")\n",
    "means = cv.cv_results_[\"mean_test_score\"]\n",
    "stds = cv.cv_results_[\"std_test_score\"]\n",
    "for mean, std, params in zip(means, stds, cv.cv_results_[\"params\"]):\n",
    "    print(\"%0.2f (+/-%0.03f) for %r\" % (mean, std * 2, params))\n",
    "print()\n"
   ]
  },
  {
   "cell_type": "markdown",
   "id": "cb4fdaba",
   "metadata": {},
   "source": [
    "We can also transform the ``cv_results`` parameter into a ``DataFrame`` from the ``pandas`` package, which is useful when we want to do some detailed analysis regarding the hyperparameters."
   ]
  },
  {
   "cell_type": "markdown",
   "id": "37090b41",
   "metadata": {},
   "source": [
    "## Summary\n",
    "- Model selection is the process of testing different learning algorithms and their hyperparameters, aiming at optimizing the final model that is deployed\n",
    "- One of the main goals of this process is to reduce the chances of overfitting, which happens when our models works really well in our training data, but performs poorly on unseen data.\n",
    "- The loss of our models can be decomposed into bias, variance and noise. While we can't do much about the last one, we can adjust our model selection phase to find a good trade-off between bias and variance. High variance is also tightly related to overfitting.\n",
    "- Several approaches can be considered to reduce the chances of overfitting, like regularization and hyperparameter tuning. All of the ones discussed in this lesson are available in the ``sklearn`` package and must be carefully studied.\n"
   ]
  },
  {
   "cell_type": "markdown",
   "id": "264c24d0",
   "metadata": {},
   "source": [
    "In our next lesson, we will talk about tree-based models and another technique that is widely employed to avoid overfitting, called **ensembling**.\n",
    "\n",
    "<h1> <center> See you all in our next lesson! &#128516; </center> </h1>"
   ]
  }
 ],
 "metadata": {
  "kernelspec": {
   "display_name": "Python 3",
   "language": "python",
   "name": "python3"
  },
  "language_info": {
   "codemirror_mode": {
    "name": "ipython",
    "version": 3
   },
   "file_extension": ".py",
   "mimetype": "text/x-python",
   "name": "python",
   "nbconvert_exporter": "python",
   "pygments_lexer": "ipython3",
   "version": "3.8.8"
  }
 },
 "nbformat": 4,
 "nbformat_minor": 5
}
