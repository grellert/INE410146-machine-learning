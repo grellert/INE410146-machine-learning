{
  "nbformat": 4,
  "nbformat_minor": 0,
  "metadata": {
    "colab": {
      "provenance": [],
      "authorship_tag": "ABX9TyPMFEHkRJ6myJLZo7z4RyvA",
      "include_colab_link": true
    },
    "kernelspec": {
      "name": "python3",
      "display_name": "Python 3"
    },
    "language_info": {
      "name": "python"
    }
  },
  "cells": [
    {
      "cell_type": "markdown",
      "metadata": {
        "id": "view-in-github",
        "colab_type": "text"
      },
      "source": [
        "<a href=\"https://colab.research.google.com/github/grellert/INE410146-machine-learning/blob/main/Curso_CV_Grellert_Aula.ipynb\" target=\"_parent\"><img src=\"https://colab.research.google.com/assets/colab-badge.svg\" alt=\"Open In Colab\"/></a>"
      ]
    },
    {
      "cell_type": "code",
      "execution_count": null,
      "metadata": {
        "id": "Wb-2J1noC0oW"
      },
      "outputs": [],
      "source": [
        "import skimage.data\n",
        "import numpy as np\n",
        "import matplotlib.pyplot as plt\n",
        "\n",
        "img = skimage.data.coffee()\n",
        "img = skimage.io.imread('black_circle.jpg')\n",
        "\n",
        "img_gray = skimage.color.rgb2gray(img)\n",
        "\n",
        "plt.figure(figsize = (12,5))\n",
        "plt.subplot(1,3,1)\n",
        "plt.title(f'Original Image ({img_gray.shape})')\n",
        "plt.imshow(img_gray, cmap = 'gray')\n",
        "\n",
        "plt.subplot(1,3,2)\n",
        "row_idx = 100\n",
        "plt.plot(img_gray[row_idx, :])\n",
        "plt.title(f'Pixels at row {row_idx}')\n",
        "\n",
        "plt.subplot(1,3,3)\n",
        "plt.plot(img_gray[row_idx, 1:] - img_gray[row_idx, :-1] )\n",
        "plt.title(f'Hor. Gradient at row {row_idx}')\n",
        "\n",
        "plt.tight_layout()\n",
        "plt.show()"
      ]
    }
  ]
}